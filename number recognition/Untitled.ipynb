{
 "cells": [
  {
   "cell_type": "code",
   "execution_count": 1,
   "id": "d0e79a6a",
   "metadata": {},
   "outputs": [
    {
     "name": "stdout",
     "output_type": "stream",
     "text": [
      "Downloading data from https://storage.googleapis.com/tensorflow/tf-keras-datasets/mnist.npz\n",
      "11490434/11490434 [==============================] - 3s 0us/step\n",
      "Epoch 1/10\n",
      "422/422 [==============================] - 19s 43ms/step - loss: 0.3252 - accuracy: 0.9003 - val_loss: 0.0604 - val_accuracy: 0.9820\n",
      "Epoch 2/10\n",
      "422/422 [==============================] - 18s 43ms/step - loss: 0.1038 - accuracy: 0.9694 - val_loss: 0.0448 - val_accuracy: 0.9873\n",
      "Epoch 3/10\n",
      "422/422 [==============================] - 18s 43ms/step - loss: 0.0775 - accuracy: 0.9777 - val_loss: 0.0389 - val_accuracy: 0.9883\n",
      "Epoch 4/10\n",
      "422/422 [==============================] - 18s 43ms/step - loss: 0.0614 - accuracy: 0.9816 - val_loss: 0.0421 - val_accuracy: 0.9865\n",
      "Epoch 5/10\n",
      "422/422 [==============================] - 18s 43ms/step - loss: 0.0531 - accuracy: 0.9838 - val_loss: 0.0358 - val_accuracy: 0.9905\n",
      "Epoch 6/10\n",
      "422/422 [==============================] - 18s 43ms/step - loss: 0.0466 - accuracy: 0.9857 - val_loss: 0.0321 - val_accuracy: 0.9908\n",
      "Epoch 7/10\n",
      "422/422 [==============================] - 18s 43ms/step - loss: 0.0411 - accuracy: 0.9875 - val_loss: 0.0334 - val_accuracy: 0.9912\n",
      "Epoch 8/10\n",
      "422/422 [==============================] - 18s 43ms/step - loss: 0.0385 - accuracy: 0.9876 - val_loss: 0.0331 - val_accuracy: 0.9920\n",
      "Epoch 9/10\n",
      "422/422 [==============================] - 18s 43ms/step - loss: 0.0336 - accuracy: 0.9900 - val_loss: 0.0376 - val_accuracy: 0.9910\n",
      "Epoch 10/10\n",
      "422/422 [==============================] - 19s 44ms/step - loss: 0.0289 - accuracy: 0.9904 - val_loss: 0.0309 - val_accuracy: 0.9923\n",
      "313/313 [==============================] - 2s 5ms/step - loss: 0.0222 - accuracy: 0.9927\n",
      "Test Accuracy: 0.9926999807357788\n"
     ]
    }
   ],
   "source": [
    "import numpy as np\n",
    "import tensorflow as tf\n",
    "from tensorflow.keras.datasets import mnist\n",
    "from tensorflow.keras.models import Sequential\n",
    "from tensorflow.keras.layers import Conv2D, MaxPooling2D, Flatten, Dense, Dropout\n",
    "from tensorflow.keras.utils import to_categorical\n",
    "\n",
    "# Load the MNIST dataset\n",
    "(train_images, train_labels), (test_images, test_labels) = mnist.load_data()\n",
    "\n",
    "# Preprocess the data\n",
    "train_images = train_images.reshape(-1, 28, 28, 1) / 255.0\n",
    "test_images = test_images.reshape(-1, 28, 28, 1) / 255.0\n",
    "train_labels = to_categorical(train_labels, num_classes=10)\n",
    "test_labels = to_categorical(test_labels, num_classes=10)\n",
    "\n",
    "# Build the model\n",
    "model = Sequential([\n",
    "    Conv2D(32, (3, 3), activation='relu', input_shape=(28, 28, 1)),\n",
    "    MaxPooling2D((2, 2)),\n",
    "    Conv2D(64, (3, 3), activation='relu'),\n",
    "    MaxPooling2D((2, 2)),\n",
    "    Flatten(),\n",
    "    Dense(128, activation='relu'),\n",
    "    Dropout(0.5),\n",
    "    Dense(10, activation='softmax')\n",
    "])\n",
    "\n",
    "# Compile the model\n",
    "model.compile(optimizer='adam', loss='categorical_crossentropy', metrics=['accuracy'])\n",
    "\n",
    "# Train the model\n",
    "model.fit(train_images, train_labels, epochs=10, batch_size=128, validation_split=0.1)\n",
    "\n",
    "# Evaluate the model on test data\n",
    "test_loss, test_accuracy = model.evaluate(test_images, test_labels)\n",
    "print(\"Test Accuracy:\", test_accuracy)\n"
   ]
  }
 ],
 "metadata": {
  "kernelspec": {
   "display_name": "Python 3 (ipykernel)",
   "language": "python",
   "name": "python3"
  },
  "language_info": {
   "codemirror_mode": {
    "name": "ipython",
    "version": 3
   },
   "file_extension": ".py",
   "mimetype": "text/x-python",
   "name": "python",
   "nbconvert_exporter": "python",
   "pygments_lexer": "ipython3",
   "version": "3.10.9"
  }
 },
 "nbformat": 4,
 "nbformat_minor": 5
}
